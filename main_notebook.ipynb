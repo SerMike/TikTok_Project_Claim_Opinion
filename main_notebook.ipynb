{
 "cells": [
  {
   "cell_type": "markdown",
   "metadata": {},
   "source": [
    "## TikTok Data Summary\n",
    "A synthetic TikTok dataset containing video transciptions and comments on user claims. This content needs to be reviewed by moderators to determine if the content is a user claim on unverified information or instead offers an opinion on that information."
   ]
  },
  {
   "cell_type": "markdown",
   "metadata": {},
   "source": [
    "## Data Dictionary\n",
    "\n",
    "| Column name              | Type   | Description                                                                                                                                                                                                                                                         |\n",
    "|--------------------------|--------|---------------------------------------------------------------------------------------------------------------------------------------------------------------------------------------------------------------------------------------------------------------------|\n",
    "| #                        | int    | TikTok assigned number for video with claim/opinion.                                                                                                                                                                                                                |\n",
    "| claim_status             | obj    | Whether the published video has been identified as an “opinion” or a “claim.” In this dataset, an “opinion” refers to an individual’s or group’s personal belief or thought. A “claim” refers to information that is either unsourced or from an unverified source. |\n",
    "| video_id                 | int    | Random identifying number assigned to video upon publication on TikTok.                                                                                                                                                                                             |\n",
    "| video_duration_sec       | int    | How long the published video is measured in seconds.                                                                                                                                                                                                                |\n",
    "| video_transcription_text | obj    | Transcribed text of the words spoken in the published video.                                                                                                                                                                                                        |\n",
    "| verified_status          | obj    | Indicates the status of the TikTok user who published the video in terms of their verification, either “verified” or “not verified.”                                                                                                                                |\n",
    "| author_ban_status        | obj    | Indicates the status of the TikTok user who published the video in terms of their permissions: “active,” “under scrutiny,” or “banned.”                                                                                                                             |\n",
    "| video_view_count         | float  | The total number of times the published video has been viewed.                                                                                                                                                                                                      |\n",
    "| video_like_count         | float  | The total number of times the published video has been liked by other users.                                                                                                                                                                                        |\n",
    "| video_share_count        | float  | The total number of times the published video has been shared by other users.                                                                                                                                                                                       |\n",
    "| video_download_count     | float  | The total number of times the published video has been downloaded by other users.                                                                                                                                                                                   |\n",
    "| video_comment_count      | float  | The total number of comments on the published video.                                                                                                                                                                                                                |\n",
    "\n",
    "Source: https://www.coursera.org/learn/get-started-with-python/quiz/Ky5XE/activity-create-your-course-2-tiktok-project/attempt"
   ]
  },
  {
   "cell_type": "code",
   "execution_count": 2,
   "metadata": {},
   "outputs": [],
   "source": [
    "import pandas as pd\n",
    "import numpy as np\n",
    "import matplotlib.pyplot as plt"
   ]
  },
  {
   "cell_type": "code",
   "execution_count": 3,
   "metadata": {},
   "outputs": [],
   "source": [
    "data = pd.read_csv(\"tiktok_dataset.csv\")\n",
    "\n",
    "# data.head(10)\n",
    "# data.info()\n",
    "# data.describe()"
   ]
  },
  {
   "cell_type": "markdown",
   "metadata": {},
   "source": [
    "### Inspecting the Data\n",
    "When inspecting the data we can make some initial observations. We have a lot of quantatative data regarding the video length, view counts, and engagement from users. The most diverse column of data is of course the video transcription text and is core in developing a machine learning model that can properly identify what is a user claim and what is a user opinion. In total there are **19382 rows** with many columns having **19084** `non-null` values. This means there are **298 rows** that will contain at least **1** `null` value in a column. Any arithemtic across data columns needs to be considered carefully as some numeric columns are `int` based datatypes and others are `float` based datatypes. Columns `#` and `video_id` should be considered/converted into an `object` dtype as their numerical reference are not values we will want to perform calculations on."
   ]
  },
  {
   "cell_type": "code",
   "execution_count": 4,
   "metadata": {},
   "outputs": [
    {
     "data": {
      "text/html": [
       "<div>\n",
       "<style scoped>\n",
       "    .dataframe tbody tr th:only-of-type {\n",
       "        vertical-align: middle;\n",
       "    }\n",
       "\n",
       "    .dataframe tbody tr th {\n",
       "        vertical-align: top;\n",
       "    }\n",
       "\n",
       "    .dataframe thead th {\n",
       "        text-align: right;\n",
       "    }\n",
       "</style>\n",
       "<table border=\"1\" class=\"dataframe\">\n",
       "  <thead>\n",
       "    <tr style=\"text-align: right;\">\n",
       "      <th></th>\n",
       "      <th>unique_count</th>\n",
       "      <th>percentage</th>\n",
       "    </tr>\n",
       "    <tr>\n",
       "      <th>claim_status</th>\n",
       "      <th></th>\n",
       "      <th></th>\n",
       "    </tr>\n",
       "  </thead>\n",
       "  <tbody>\n",
       "    <tr>\n",
       "      <th>claim</th>\n",
       "      <td>9608</td>\n",
       "      <td>50.35</td>\n",
       "    </tr>\n",
       "    <tr>\n",
       "      <th>opinion</th>\n",
       "      <td>9476</td>\n",
       "      <td>49.65</td>\n",
       "    </tr>\n",
       "  </tbody>\n",
       "</table>\n",
       "</div>"
      ],
      "text/plain": [
       "              unique_count  percentage\n",
       "claim_status                          \n",
       "claim                 9608       50.35\n",
       "opinion               9476       49.65"
      ]
     },
     "execution_count": 4,
     "metadata": {},
     "output_type": "execute_result"
    }
   ],
   "source": [
    "# Exploring how many unique claims versus opinions are available in this dataset. \n",
    "data['claim_status'].value_counts()\n",
    "\n",
    "# Percentage of each claim status in the dataset\n",
    "counts_and_percs = data['claim_status'].value_counts(normalize=False).to_frame(name='unique_count')\n",
    "counts_and_percs['percentage'] = (data['claim_status'].value_counts(normalize=True) * 100).round(2)\n",
    "\n",
    "counts_and_percs"
   ]
  },
  {
   "cell_type": "code",
   "execution_count": 5,
   "metadata": {},
   "outputs": [
    {
     "name": "stdout",
     "output_type": "stream",
     "text": [
      "Mean view count for claims: 501029.45\n",
      "Median view count for claims: 501555.0\n",
      "\n",
      "Mean view count for opinions: 4956.43\n",
      "Median view count for opinions: 4953.0\n"
     ]
    }
   ],
   "source": [
    "# Claim Mean & Median\n",
    "claim_mask = data['claim_status'] == 'claim'\n",
    "df_claim_mask = data[claim_mask]\n",
    "print(\"Mean view count for claims:\", df_claim_mask['video_view_count'].mean().round(2))\n",
    "print(\"Median view count for claims:\", df_claim_mask['video_view_count'].median())\n",
    "\n",
    "print(\"\")\n",
    "\n",
    "# Opinion Mean & Median\n",
    "opinion_mask = data['claim_status'] == 'opinion'\n",
    "df_opinion_mask = data[opinion_mask]\n",
    "print(\"Mean view count for opinions:\", df_opinion_mask['video_view_count'].mean().round(2))\n",
    "print(\"Median view count for opinions:\", df_opinion_mask['video_view_count'].median())"
   ]
  },
  {
   "cell_type": "markdown",
   "metadata": {},
   "source": [
    "### Summary for Claim Status ('claim_status')\n",
    "\n",
    "Initially, we see that there is a near even split with the **unique** counts for the two different claim statuses of `claim` and `opinion` in the `claim_status` column. Claims are representative at `50.35%` and opinions are at `49.65%`. We see similar balanced statistics with the mean and median of both claim statuses. We can conclude that neither status is represented in a lopsided way that would skew results later towards one or the other. This also means that we don't have to worry about outliers since the mean and median are roughly the same. However, while the unique values are evenly split we do see that mean view counts are drastically different. The mean view count for claims is about `501029` and the mean view count for opinions is about `4956`. There are **100x** more claims than opinions. "
   ]
  },
  {
   "cell_type": "code",
   "execution_count": 6,
   "metadata": {},
   "outputs": [
    {
     "data": {
      "image/png": "[encoded data removed]",
      "text/plain": [
       "<Figure size 1200x500 with 2 Axes>"
      ]
     },
     "metadata": {},
     "output_type": "display_data"
    }
   ],
   "source": [
    "# Plot both charts side-by-side\n",
    "fig, (ax1, ax2) = plt.subplots(1, 2, figsize=(12, 5))\n",
    "\n",
    "# Unique View Counts\n",
    "counts_and_percs['percentage'].plot(kind='pie', ax=ax1, autopct='%1.1f%%')\n",
    "ax1.set_title('Distribution of Unique Views: Claims vs Opinions')\n",
    "\n",
    "# Mean View Counts\n",
    "mean_claim_views = df_claim_mask['video_view_count'].mean().round(2)\n",
    "mean_opinion_views = df_opinion_mask['video_view_count'].mean().round(2)\n",
    "\n",
    "mean_counts = pd.Series({\n",
    "    'Claim Videos': mean_claim_views,\n",
    "    'Opinion Videos': mean_opinion_views\n",
    "})\n",
    "\n",
    "mean_counts.plot(kind='pie', ax=ax2, autopct='%1.1f%%')\n",
    "ax2.set_title('Distribution of Mean Views: Claims vs Opinions')\n",
    "\n",
    "plt.show()"
   ]
  },
  {
   "cell_type": "markdown",
   "metadata": {},
   "source": [
    "### 'Claim Status' and 'Author Ban Status' Breakdown\n",
    "Below, we can see a clearer breakdown of the ban statuses of the authors of the videos versus the claim status. We can see that there are many more `claim` videos with banned authors than there are `opinion` videos with banned authors. We can infer that `claim` videos are more closely scutinzed than `opinion` videos which would make sense since `claim` videos are intentionally meant to be presented as more factual than `opinion` videos are. We don't know the contents of the videos themselves (yet) so we do not know if this inference is strictly true as the bans could be for other bad actor actions. "
   ]
  },
  {
   "cell_type": "code",
   "execution_count": 32,
   "metadata": {},
   "outputs": [
    {
     "data": {
      "text/html": [
       "<div>\n",
       "<style scoped>\n",
       "    .dataframe tbody tr th:only-of-type {\n",
       "        vertical-align: middle;\n",
       "    }\n",
       "\n",
       "    .dataframe tbody tr th {\n",
       "        vertical-align: top;\n",
       "    }\n",
       "\n",
       "    .dataframe thead th {\n",
       "        text-align: right;\n",
       "    }\n",
       "</style>\n",
       "<table border=\"1\" class=\"dataframe\">\n",
       "  <thead>\n",
       "    <tr style=\"text-align: right;\">\n",
       "      <th></th>\n",
       "      <th></th>\n",
       "      <th>#</th>\n",
       "    </tr>\n",
       "    <tr>\n",
       "      <th>claim_status</th>\n",
       "      <th>author_ban_status</th>\n",
       "      <th></th>\n",
       "    </tr>\n",
       "  </thead>\n",
       "  <tbody>\n",
       "    <tr>\n",
       "      <th rowspan=\"3\" valign=\"top\">claim</th>\n",
       "      <th>active</th>\n",
       "      <td>6566</td>\n",
       "    </tr>\n",
       "    <tr>\n",
       "      <th>banned</th>\n",
       "      <td>1439</td>\n",
       "    </tr>\n",
       "    <tr>\n",
       "      <th>under review</th>\n",
       "      <td>1603</td>\n",
       "    </tr>\n",
       "    <tr>\n",
       "      <th rowspan=\"3\" valign=\"top\">opinion</th>\n",
       "      <th>active</th>\n",
       "      <td>8817</td>\n",
       "    </tr>\n",
       "    <tr>\n",
       "      <th>banned</th>\n",
       "      <td>196</td>\n",
       "    </tr>\n",
       "    <tr>\n",
       "      <th>under review</th>\n",
       "      <td>463</td>\n",
       "    </tr>\n",
       "  </tbody>\n",
       "</table>\n",
       "</div>"
      ],
      "text/plain": [
       "                                   #\n",
       "claim_status author_ban_status      \n",
       "claim        active             6566\n",
       "             banned             1439\n",
       "             under review       1603\n",
       "opinion      active             8817\n",
       "             banned              196\n",
       "             under review        463"
      ]
     },
     "execution_count": 32,
     "metadata": {},
     "output_type": "execute_result"
    }
   ],
   "source": [
    "# Counts for each ban stuatus for each claim status\n",
    "data.groupby(['claim_status', 'author_ban_status']).count()[['#']]"
   ]
  },
  {
   "cell_type": "code",
   "execution_count": 50,
   "metadata": {},
   "outputs": [
    {
     "data": {
      "text/html": [
       "<div>\n",
       "<style scoped>\n",
       "    .dataframe tbody tr th:only-of-type {\n",
       "        vertical-align: middle;\n",
       "    }\n",
       "\n",
       "    .dataframe tbody tr th {\n",
       "        vertical-align: top;\n",
       "    }\n",
       "\n",
       "    .dataframe thead tr th {\n",
       "        text-align: left;\n",
       "    }\n",
       "\n",
       "    .dataframe thead tr:last-of-type th {\n",
       "        text-align: right;\n",
       "    }\n",
       "</style>\n",
       "<table border=\"1\" class=\"dataframe\">\n",
       "  <thead>\n",
       "    <tr>\n",
       "      <th></th>\n",
       "      <th colspan=\"2\" halign=\"left\">video_view_count</th>\n",
       "      <th colspan=\"2\" halign=\"left\">video_like_count</th>\n",
       "      <th colspan=\"2\" halign=\"left\">video_share_count</th>\n",
       "    </tr>\n",
       "    <tr>\n",
       "      <th></th>\n",
       "      <th>mean</th>\n",
       "      <th>median</th>\n",
       "      <th>mean</th>\n",
       "      <th>median</th>\n",
       "      <th>mean</th>\n",
       "      <th>median</th>\n",
       "    </tr>\n",
       "    <tr>\n",
       "      <th>author_ban_status</th>\n",
       "      <th></th>\n",
       "      <th></th>\n",
       "      <th></th>\n",
       "      <th></th>\n",
       "      <th></th>\n",
       "      <th></th>\n",
       "    </tr>\n",
       "  </thead>\n",
       "  <tbody>\n",
       "    <tr>\n",
       "      <th>active</th>\n",
       "      <td>215927.04</td>\n",
       "      <td>8616.0</td>\n",
       "      <td>71036.53</td>\n",
       "      <td>2222.0</td>\n",
       "      <td>14111.47</td>\n",
       "      <td>437.0</td>\n",
       "    </tr>\n",
       "    <tr>\n",
       "      <th>banned</th>\n",
       "      <td>445845.44</td>\n",
       "      <td>448201.0</td>\n",
       "      <td>153017.24</td>\n",
       "      <td>105573.0</td>\n",
       "      <td>29998.94</td>\n",
       "      <td>14468.0</td>\n",
       "    </tr>\n",
       "    <tr>\n",
       "      <th>under review</th>\n",
       "      <td>392204.84</td>\n",
       "      <td>365245.5</td>\n",
       "      <td>128718.05</td>\n",
       "      <td>71204.5</td>\n",
       "      <td>25774.70</td>\n",
       "      <td>9444.0</td>\n",
       "    </tr>\n",
       "  </tbody>\n",
       "</table>\n",
       "</div>"
      ],
      "text/plain": [
       "                  video_view_count           video_like_count            \\\n",
       "                              mean    median             mean    median   \n",
       "author_ban_status                                                         \n",
       "active                   215927.04    8616.0         71036.53    2222.0   \n",
       "banned                   445845.44  448201.0        153017.24  105573.0   \n",
       "under review             392204.84  365245.5        128718.05   71204.5   \n",
       "\n",
       "                  video_share_count           \n",
       "                               mean   median  \n",
       "author_ban_status                             \n",
       "active                     14111.47    437.0  \n",
       "banned                     29998.94  14468.0  \n",
       "under review               25774.70   9444.0  "
      ]
     },
     "execution_count": 50,
     "metadata": {},
     "output_type": "execute_result"
    }
   ],
   "source": [
    "# Mean and Median for Video Engagement \n",
    "data.groupby([\"author_ban_status\"]).agg(\n",
    "    {\n",
    "        'video_view_count': ['mean', 'median'],\n",
    "        'video_like_count': ['mean', 'median'],\n",
    "        'video_share_count': ['mean', 'median']\n",
    "    }\n",
    ").round(2)"
   ]
  },
  {
   "cell_type": "code",
   "execution_count": null,
   "metadata": {},
   "outputs": [],
   "source": []
  }
 ],
 "metadata": {
  "kernelspec": {
   "display_name": ".venv",
   "language": "python",
   "name": "python3"
  },
  "language_info": {
   "codemirror_mode": {
    "name": "ipython",
    "version": 3
   },
   "file_extension": ".py",
   "mimetype": "text/x-python",
   "name": "python",
   "nbconvert_exporter": "python",
   "pygments_lexer": "ipython3",
   "version": "3.12.7"
  }
 },
 "nbformat": 4,
 "nbformat_minor": 2
}
